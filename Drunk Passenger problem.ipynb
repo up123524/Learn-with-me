{
 "cells": [
  {
   "cell_type": "markdown",
   "metadata": {},
   "source": [
    "The Drunk Passeenger Problem (simulating so I can believe theory)\n",
    "\n",
    "Image there is a plane with 100 passengers who each have an assigned ticket. The passengers are due to baord sequentially, however the first passenger is drunk and sits in a random seat. Each passenger will then baord the plane and sit in their assigned seat unless they find it is occupied in which case they will choose a seat at random. What are the chances the last passenger to board the plane is able to sit in their assigned seat."
   ]
  },
  {
   "cell_type": "code",
   "execution_count": 1,
   "metadata": {},
   "outputs": [],
   "source": [
    "#Import files\n",
    "import random"
   ]
  },
  {
   "cell_type": "code",
   "execution_count": 2,
   "metadata": {},
   "outputs": [],
   "source": [
    "#Define the simulation process for each baording universe\n",
    "def seat_simulation(N): #where N=number of passenger\n",
    "    #Create a list of seats\n",
    "    seats=list(range(N)) \n",
    "    #Randomly choose a seat for the first passenger who is drunk\n",
    "    chosen_seat=random.choice(seats)\n",
    "    #Remove this chosen seat from the list of seats available\n",
    "    seats.remove(chosen_seat)\n",
    "    #iterate through the remaining passengers to see which seats are removed\n",
    "    for passenger in range(1,N-1):\n",
    "        #If the passenger is in the seat, remove the seat from the list\n",
    "        if passenger in seats:\n",
    "            seats.remove(passenger)\n",
    "        #If the passenger is not in the seat, randomly choose a seat from the list to remove\n",
    "        else:\n",
    "            chosen_seat=random.choice(seats)\n",
    "            seats.remove(chosen_seat)\n",
    "    #Check if the last passenger is in the last seat\n",
    "    return seats[0] == N-1"
   ]
  },
  {
   "cell_type": "code",
   "execution_count": 3,
   "metadata": {},
   "outputs": [],
   "source": [
    "#Define the probability of sucess for each boarding universe (the last passenger gets their assigned seat\n",
    "def prob_gen(N, N_sim):\n",
    "    #Run the simulation N_sim times and calculate the total number of success\n",
    "    last_success=sum(seat_simulation(N) for _ in range(N_sim))\n",
    "    #divide the total number of successes agaisnt the total number of simulations to get the probability of success\n",
    "    return last_success/N_sim"
   ]
  },
  {
   "cell_type": "code",
   "execution_count": 8,
   "metadata": {},
   "outputs": [
    {
     "name": "stdout",
     "output_type": "stream",
     "text": [
      "probability estimate: of the last passenger getting their assigned seat:0.5003\n"
     ]
    }
   ],
   "source": [
    "#Run the simulation for 100 passengers over 10000 baoarding universes\n",
    "N=100\n",
    "N_sim=1000000\n",
    "prob=prob_gen(N,N_sim)\n",
    "print(f\"probability estimate: of the last passenger getting their assigned seat:{prob:.4f}\")"
   ]
  },
  {
   "cell_type": "markdown",
   "metadata": {},
   "source": [
    "I find this question interesting as its one of the few times the answer to a probaility question is 50/50, either it happens or it doesnt, without being sarcastic. "
   ]
  },
  {
   "cell_type": "markdown",
   "metadata": {},
   "source": [
    "Why is this the case: \n",
    "\n",
    "The Drunk Passenger Problem: Probability Analysis\n",
    "\n",
    "Why is it 50/50, because there are only two important cases.\n",
    "\n",
    "Either a passenger sits in the drunk man seat and each subsequent passenger sits in their assigned seat and from then on every passenger sits in their assigned seat\n",
    "\n",
    "Or a passenger sits in the last passengers assigned seat and the simulation ends. \n",
    "\n",
    "Or to put the problem another way, the passengers get on and kickt he drunk out of their seat and into a random seat until he either sits in his seat or the last passengers seat, 50/50!\n",
    "\n",
    "Each other case, from 3 seats to 100000000000 seats, does not effect the outcome. this is clever conditioning on probablity. \n",
    "\n",
    "Probability Equation\n",
    "Let $A$ be the event that the last passenger sits in their assigned seat, and $n$ be the number of passengers. The probability equation can be expressed as:\n",
    "$$\n",
    "P(A) = f(n) = \\frac{1}{n}*1 + \\frac{1}{n}*0 + \\frac{n-2}{n} P(n-1)\n",
    "$$\n",
    "Explanation of the Equation\n",
    "\n",
    "$\\frac{1}{n}$ represents the probability that the drunk passenger randomly selects the correct seat.\n",
    "The recursive term accounts for the probability of the other cases where seat swapping occurs but ultimately leads to the last passenger getting their assigned seat. The second refers to the probability that the drunk passenger picks the last passengers seat in which case the probability that they get their seat is 0. The P(n-1) contains all the probabilities in n-1 passengers, for an additional passenger at the start we simply add the drunk passenger earlier picking a seat with n-2/n probability.\n",
    "\n",
    "This recursive equation simplifies to a constant value:\n",
    "$$\n",
    "P(A) = \\frac{1}{2} \n",
    "$$\n",
    "for \n",
    "$$\n",
    "f(n-n+2)=f(2)=1/2\n",
    "$$\n",
    "This means that regardless of the number of passengers, the probability of the last passenger sitting in their assigned seat is always 50%"
   ]
  }
 ],
 "metadata": {
  "kernelspec": {
   "display_name": "Python 3",
   "language": "python",
   "name": "python3"
  },
  "language_info": {
   "codemirror_mode": {
    "name": "ipython",
    "version": 3
   },
   "file_extension": ".py",
   "mimetype": "text/x-python",
   "name": "python",
   "nbconvert_exporter": "python",
   "pygments_lexer": "ipython3",
   "version": "3.12.6"
  }
 },
 "nbformat": 4,
 "nbformat_minor": 2
}
